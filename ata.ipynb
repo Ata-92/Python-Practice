{
 "metadata": {
  "language_info": {
   "codemirror_mode": {
    "name": "ipython",
    "version": 3
   },
   "file_extension": ".py",
   "mimetype": "text/x-python",
   "name": "python",
   "nbconvert_exporter": "python",
   "pygments_lexer": "ipython3",
   "version": "3.9.5"
  },
  "orig_nbformat": 4,
  "kernelspec": {
   "name": "python3",
   "display_name": "Python 3.9.5 64-bit"
  },
  "interpreter": {
   "hash": "2ba1cdf4a073ec8c4a02098fd386f424a46f76b1d0a8639cbea3c09fe7d7075d"
  }
 },
 "nbformat": 4,
 "nbformat_minor": 2,
 "cells": [
  {
   "cell_type": "code",
   "execution_count": 47,
   "metadata": {},
   "outputs": [
    {
     "output_type": "stream",
     "name": "stdout",
     "text": [
      "<class 'str'> 3\n<class 'str'> 7\n"
     ]
    }
   ],
   "source": [
    "foo =[]\n",
    "# from .models import Expense\n",
    "from collections import namedtuple\n",
    "MyExpense = namedtuple('F', ['type_','amount'])\n",
    "foo.append(MyExpense('food',4))\n",
    "foo.append(MyExpense('food',3))\n",
    "foo.append(MyExpense('car',3))\n",
    "foo.append(MyExpense('dog',1))\n",
    "def summarizeExpenses(min_amount,input):\n",
    "    expenses = {}\n",
    "    for expense in input:\n",
    "        if expense.amount >= min_amount:\n",
    "            if not expense.type_ in expenses:\n",
    "                expenses[expense.type_] = 0\n",
    "            expenses[expense.type_] = expenses[expense.type_] + expense.amount\n",
    "    for(expense, amount) in sorted(expenses.items(), key=lambda e:e[1], reverse=False):\n",
    "        print(type(expense), amount)\n",
    "summarizeExpenses(2, foo)"
   ]
  }
 ]
}